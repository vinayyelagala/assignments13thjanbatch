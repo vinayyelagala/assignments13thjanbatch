{
 "cells": [
  {
   "cell_type": "code",
   "execution_count": 30,
   "id": "49b9324c",
   "metadata": {},
   "outputs": [],
   "source": [
    "##0,1,1,2,3,5,8,13,21\n",
    "\n",
    "def fiboseries(n=2):\n",
    "    a=[0]*n\n",
    "    a[0]=0\n",
    "    a[1]=1\n",
    "    for i in range(2,n):\n",
    "        a[i]=a[i-1]+a[i-2]\n",
    "        \n",
    "    print(a)\n",
    "        \n",
    "        \n",
    "\n",
    "    "
   ]
  },
  {
   "cell_type": "code",
   "execution_count": 31,
   "id": "42a9313f",
   "metadata": {
    "scrolled": true
   },
   "outputs": [
    {
     "name": "stdout",
     "output_type": "stream",
     "text": [
      "[0, 1, 1, 2, 3, 5, 8, 13, 21, 34, 55, 89]\n"
     ]
    }
   ],
   "source": [
    "fiboseries(12)"
   ]
  },
  {
   "cell_type": "code",
   "execution_count": 38,
   "id": "459dce00",
   "metadata": {
    "scrolled": true
   },
   "outputs": [
    {
     "name": "stdout",
     "output_type": "stream",
     "text": [
      "enter a number407\n",
      "a is armstrong number\n"
     ]
    }
   ],
   "source": [
    "## Armstrong number\n",
    "a=input('enter a number')\n",
    "b=0\n",
    "i=0\n",
    "while i<len(a):\n",
    "    b=b + int(a[i])**3\n",
    "    i+=1\n",
    "if int(b)==int(a):\n",
    "    print('a is armstrong number')\n",
    "else:\n",
    "    print('not an armstrong number')\n",
    "    "
   ]
  },
  {
   "cell_type": "code",
   "execution_count": 50,
   "id": "d2ea0434",
   "metadata": {
    "scrolled": true
   },
   "outputs": [
    {
     "name": "stdout",
     "output_type": "stream",
     "text": [
      "[45, 2, 3, 4]\n"
     ]
    },
    {
     "ename": "TypeError",
     "evalue": "'tuple' object does not support item assignment",
     "output_type": "error",
     "traceback": [
      "\u001b[1;31m---------------------------------------------------------------------------\u001b[0m",
      "\u001b[1;31mTypeError\u001b[0m                                 Traceback (most recent call last)",
      "\u001b[1;32m~\\AppData\\Local\\Temp/ipykernel_13528/3359439639.py\u001b[0m in \u001b[0;36m<module>\u001b[1;34m\u001b[0m\n\u001b[0;32m      5\u001b[0m \u001b[0mList\u001b[0m\u001b[1;33m[\u001b[0m\u001b[1;36m0\u001b[0m\u001b[1;33m]\u001b[0m\u001b[1;33m=\u001b[0m\u001b[1;36m45\u001b[0m\u001b[1;33m\u001b[0m\u001b[1;33m\u001b[0m\u001b[0m\n\u001b[0;32m      6\u001b[0m \u001b[0mprint\u001b[0m\u001b[1;33m(\u001b[0m\u001b[0mList\u001b[0m\u001b[1;33m)\u001b[0m\u001b[1;33m\u001b[0m\u001b[1;33m\u001b[0m\u001b[0m\n\u001b[1;32m----> 7\u001b[1;33m \u001b[0mTuple\u001b[0m\u001b[1;33m[\u001b[0m\u001b[1;36m0\u001b[0m\u001b[1;33m]\u001b[0m\u001b[1;33m=\u001b[0m\u001b[1;36m45\u001b[0m\u001b[1;33m\u001b[0m\u001b[1;33m\u001b[0m\u001b[0m\n\u001b[0m\u001b[0;32m      8\u001b[0m \u001b[0mprint\u001b[0m\u001b[1;33m(\u001b[0m\u001b[0mTuple\u001b[0m\u001b[1;33m)\u001b[0m\u001b[1;33m\u001b[0m\u001b[1;33m\u001b[0m\u001b[0m\n",
      "\u001b[1;31mTypeError\u001b[0m: 'tuple' object does not support item assignment"
     ]
    }
   ],
   "source": [
    "## List is mutable \n",
    "#### whereas Tuple is immutable \n",
    "List = [1,2,3,4]\n",
    "Tuple=(1,2,3,4)\n",
    "List[0]=45\n",
    "print(List)\n",
    "Tuple[0]=45\n",
    "print(Tuple)"
   ]
  },
  {
   "cell_type": "code",
   "execution_count": 58,
   "id": "aca3341e",
   "metadata": {
    "scrolled": true
   },
   "outputs": [
    {
     "data": {
      "text/plain": [
       "11"
      ]
     },
     "execution_count": 58,
     "metadata": {},
     "output_type": "execute_result"
    }
   ],
   "source": [
    "### Python doc string\n",
    "#### It is used define out code, It is used after creating functions, methods, class.\n",
    "\n",
    "def sum(a,b):\n",
    "    ''' Returns the sum of two numbers'''\n",
    "    return a+b\n",
    "sum(5,6)\n",
    "\n",
    "\n",
    "\n"
   ]
  },
  {
   "cell_type": "code",
   "execution_count": null,
   "id": "bf2a914e",
   "metadata": {},
   "outputs": [],
   "source": [
    "##KNOWLEDGE TEST\n",
    "\n",
    "# PEP8 - It is a document that provides guidelines and best practices to write Python code. "
   ]
  },
  {
   "cell_type": "code",
   "execution_count": null,
   "id": "27cdbd2e",
   "metadata": {},
   "outputs": [],
   "source": [
    "#Xrange and Range\n",
    "## Xrange is used in python2 and Range is used in python3 also\n",
    "## Xrange utilizes less memory since it takes one element at a time whereas Range takes \n",
    "## all elements at once.\n"
   ]
  },
  {
   "cell_type": "code",
   "execution_count": 62,
   "id": "8bebbdf6",
   "metadata": {
    "scrolled": true
   },
   "outputs": [
    {
     "name": "stdout",
     "output_type": "stream",
     "text": [
      "90\n"
     ]
    }
   ],
   "source": [
    "# GLobal and Local Variables\n",
    "## GLobal varaibles are defined once in the program and can be accessed througout in all parts\n",
    "###of the program.\n",
    "## Local variables can only be used locally in set of lines of code in a program whose scope is \n",
    "###defined for that code for example in a function.\n",
    "\n",
    "g= 10\n",
    "def ssm(a,b):\n",
    "    return (a+b)*g\n",
    "def ssb(a,b):\n",
    "    return (a-b)*g\n",
    "print(ssm(4,5))\n",
    "\n",
    "here 'g' is a global variable whereas 'a'&'b' are local variables\n"
   ]
  },
  {
   "cell_type": "markdown",
   "id": "e77b460f",
   "metadata": {},
   "source": [
    "##Difference btwn Python2 and Python 3\n",
    "\n",
    "## 1. Division\n",
    "\n",
    " 8/5 >>>1 in python2, 1.6 in python3\n",
    " \n",
    "## 2. Print\n",
    "\n",
    "print 'hello world' >> Python 3 doesnt support\n",
    "\n",
    "## 3. XRange and Range \n",
    "\n",
    "Xrange doesnt work in python3 whereas it works in python2\n",
    "\n"
   ]
  },
  {
   "cell_type": "code",
   "execution_count": 67,
   "id": "68e7f4fb",
   "metadata": {
    "scrolled": true
   },
   "outputs": [
    {
     "ename": "NameError",
     "evalue": "name 'xrange' is not defined",
     "output_type": "error",
     "traceback": [
      "\u001b[1;31m---------------------------------------------------------------------------\u001b[0m",
      "\u001b[1;31mNameError\u001b[0m                                 Traceback (most recent call last)",
      "\u001b[1;32m~\\AppData\\Local\\Temp/ipykernel_13528/18348706.py\u001b[0m in \u001b[0;36m<module>\u001b[1;34m\u001b[0m\n\u001b[1;32m----> 1\u001b[1;33m \u001b[1;32mfor\u001b[0m \u001b[0mx\u001b[0m \u001b[1;32min\u001b[0m \u001b[0mxrange\u001b[0m\u001b[1;33m(\u001b[0m\u001b[1;36m1\u001b[0m\u001b[1;33m,\u001b[0m\u001b[1;36m4\u001b[0m\u001b[1;33m)\u001b[0m\u001b[1;33m:\u001b[0m\u001b[1;33m\u001b[0m\u001b[1;33m\u001b[0m\u001b[0m\n\u001b[0m\u001b[0;32m      2\u001b[0m     \u001b[0mprint\u001b[0m\u001b[1;33m(\u001b[0m\u001b[0mx\u001b[0m\u001b[1;33m)\u001b[0m\u001b[1;33m\u001b[0m\u001b[1;33m\u001b[0m\u001b[0m\n",
      "\u001b[1;31mNameError\u001b[0m: name 'xrange' is not defined"
     ]
    }
   ],
   "source": [
    "for x in xrange(1,4):\n",
    "    print(x)"
   ]
  },
  {
   "cell_type": "code",
   "execution_count": 100,
   "id": "c014a776",
   "metadata": {
    "scrolled": false
   },
   "outputs": [
    {
     "name": "stdout",
     "output_type": "stream",
     "text": [
      "Enter a string'HIM'\n",
      "a is not a Mirrored Palindrome\n",
      "a is not a Mirrored Palindrome\n",
      "a is not a Mirrored Palindrome\n"
     ]
    }
   ],
   "source": [
    "## Mirrored Palindrome\n",
    "### AHIMOTUVWX are mirrored palindrome letters\n",
    "\n",
    "a=eval(input('Enter a string'))\n",
    "for i in range(0,len(a)):\n",
    "    if a[i] not in ['A','H','I','M','O','T','U','V','W','X']:\n",
    "        print('a is not a Mirrored Palindrome')\n",
    "    elif a==a[::-1]:\n",
    "        print('a is a Mirrored Palindrome')\n",
    "    else:\n",
    "        print('a is not a Mirrored Palindrome')"
   ]
  }
 ],
 "metadata": {
  "kernelspec": {
   "display_name": "Python 3 (ipykernel)",
   "language": "python",
   "name": "python3"
  },
  "language_info": {
   "codemirror_mode": {
    "name": "ipython",
    "version": 3
   },
   "file_extension": ".py",
   "mimetype": "text/x-python",
   "name": "python",
   "nbconvert_exporter": "python",
   "pygments_lexer": "ipython3",
   "version": "3.9.7"
  }
 },
 "nbformat": 4,
 "nbformat_minor": 5
}
